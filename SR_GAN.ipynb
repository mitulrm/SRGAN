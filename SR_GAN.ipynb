{
 "cells": [
  {
   "cell_type": "code",
   "execution_count": null,
   "metadata": {
    "colab": {},
    "colab_type": "code",
    "id": "PVwT-iM571WG"
   },
   "outputs": [],
   "source": [
    "# CSE 674 Project 3: Super Resolution GAN\n",
    "# Name : Mitul Modi\n",
    "# UB Person No : 50288649\n",
    "# email : mitulraj@buffalo.edu"
   ]
  },
  {
   "cell_type": "code",
   "execution_count": null,
   "metadata": {
    "colab": {
     "base_uri": "https://localhost:8080/",
     "height": 52
    },
    "colab_type": "code",
    "id": "frEACGtWCv1R",
    "outputId": "d405396f-3623-445f-c8e1-23b0af151b5e"
   },
   "outputs": [],
   "source": [
    "from __future__ import print_function\n",
    "%matplotlib inline\n",
    "import argparse\n",
    "import os\n",
    "import random\n",
    "import torch\n",
    "import torch.nn as nn\n",
    "import torch.nn.parallel\n",
    "import torch.backends.cudnn as cudnn\n",
    "import torch.optim as optim\n",
    "import torch.nn.init as init\n",
    "from torch.utils.data import Dataset, DataLoader\n",
    "from torchvision import datasets, transforms, models \n",
    "import torchvision.utils as vutils\n",
    "import numpy as np\n",
    "import matplotlib.pyplot as plt\n",
    "import matplotlib.animation as animation\n",
    "from IPython.display import HTML\n",
    "from IPython.display import display\n",
    "from IPython.display import Image as I\n",
    "from PIL import Image\n",
    "import time\n",
    "import math\n",
    "from torchvision.models.vgg import vgg19\n",
    "from torchcontrib.optim import SWA\n",
    "from tqdm import tnrange, tqdm_notebook\n",
    "from math import exp\n",
    "import torch.nn.functional as F\n",
    "from torch.autograd import Variable\n",
    "from math import log10\n",
    "\n",
    "# Set random seed for reproducibility\n",
    "manualSeed = 999\n",
    "print(\"Random Seed: \", manualSeed)\n",
    "random.seed(manualSeed)\n",
    "torch.manual_seed(manualSeed)"
   ]
  },
  {
   "cell_type": "markdown",
   "metadata": {
    "colab_type": "text",
    "id": "R36AtqMt42ZV"
   },
   "source": [
    "# Utility Functions and classes"
   ]
  },
  {
   "cell_type": "code",
   "execution_count": null,
   "metadata": {
    "colab": {},
    "colab_type": "code",
    "id": "QIhZNwk7XhjR"
   },
   "outputs": [],
   "source": [
    "# Pytorch doesn't have in built function to calculate Structural SIMilarity(SSIM) between two images.\n",
    "# This blovk implements SSIM \n",
    "# Code Reference - https://github.com/Po-Hsun-Su/pytorch-ssim\n",
    "def gaussian(window_size, sigma):\n",
    "    gauss = torch.Tensor([exp(-(x - window_size//2)**2/float(2*sigma**2)) for x in range(window_size)])\n",
    "    return gauss/gauss.sum()\n",
    "\n",
    "def create_window(window_size, channel):\n",
    "    _1D_window = gaussian(window_size, 1.5).unsqueeze(1)\n",
    "    _2D_window = _1D_window.mm(_1D_window.t()).float().unsqueeze(0).unsqueeze(0)\n",
    "    window = Variable(_2D_window.expand(channel, 1, window_size, window_size).contiguous())\n",
    "    return window\n",
    "\n",
    "def _ssim(img1, img2, window, window_size, channel, size_average = True):\n",
    "    mu1 = F.conv2d(img1, window, padding = window_size//2, groups = channel)\n",
    "    mu2 = F.conv2d(img2, window, padding = window_size//2, groups = channel)\n",
    "\n",
    "    mu1_sq = mu1.pow(2)\n",
    "    mu2_sq = mu2.pow(2)\n",
    "    mu1_mu2 = mu1*mu2\n",
    "\n",
    "    sigma1_sq = F.conv2d(img1*img1, window, padding = window_size//2, groups = channel) - mu1_sq\n",
    "    sigma2_sq = F.conv2d(img2*img2, window, padding = window_size//2, groups = channel) - mu2_sq\n",
    "    sigma12 = F.conv2d(img1*img2, window, padding = window_size//2, groups = channel) - mu1_mu2\n",
    "\n",
    "    C1 = 0.01**2\n",
    "    C2 = 0.03**2\n",
    "\n",
    "    ssim_map = ((2*mu1_mu2 + C1)*(2*sigma12 + C2))/((mu1_sq + mu2_sq + C1)*(sigma1_sq + sigma2_sq + C2))\n",
    "\n",
    "    if size_average:\n",
    "        return ssim_map.mean()\n",
    "    else:\n",
    "        return ssim_map.mean(1).mean(1).mean(1)\n",
    "\n",
    "def ssim(img1, img2, window_size = 11, size_average = True):\n",
    "    (_, channel, _, _) = img1.size()\n",
    "    window = create_window(window_size, channel)\n",
    "    \n",
    "    if img1.is_cuda:\n",
    "        window = window.cuda(img1.get_device())\n",
    "    window = window.type_as(img1)\n",
    "    \n",
    "    return _ssim(img1, img2, window, window_size, channel, size_average)    "
   ]
  },
  {
   "cell_type": "code",
   "execution_count": null,
   "metadata": {
    "colab": {},
    "colab_type": "code",
    "id": "yfalM3AL3wJD"
   },
   "outputs": [],
   "source": [
    "def get_psnr(i_sr, i_hr):\n",
    "    \"\"\"Function to calculate Peak Signal to Noise Ratio (PSNR) for pair of images\"\"\"\n",
    "    mse = F.mse_loss(i_sr, i_hr)\n",
    "    psnr = 10 * log10(1 / mse.item())\n",
    "    return psnr"
   ]
  },
  {
   "cell_type": "code",
   "execution_count": null,
   "metadata": {
    "colab": {},
    "colab_type": "code",
    "id": "0_YYu0ghWLcp"
   },
   "outputs": [],
   "source": [
    "def save_model(filename, model, optimizer, scheduler, epoch, loss_tr_hist, loss_val_hist, accuracy_tr_hist, accuracy_val_hist, early_stop_counter):\n",
    "    \"\"\"\n",
    "        Function to save model.\n",
    "        \n",
    "        Function saves model and other training related information so that it can be loaded later to resume training or for inference.\n",
    "        It is called by fit() function to save best model during training.\n",
    "    \"\"\"\n",
    "    state_dict = {\n",
    "        'epoch':epoch,\n",
    "        'model': model.state_dict(),\n",
    "        'optimizer': optimizer.state_dict(),\n",
    "        'scheduler': scheduler.state_dict() if scheduler is not None else '',\n",
    "        'loss_tr_hist': loss_tr_hist,\n",
    "        'loss_val_hist': loss_val_hist,\n",
    "        'accuracy_tr_hist': accuracy_tr_hist,\n",
    "        'accuracy_val_hist': accuracy_val_hist,\n",
    "        'early_stop_counter': early_stop_counter\n",
    "    }\n",
    "    torch.save(state_dict, filename)"
   ]
  },
  {
   "cell_type": "code",
   "execution_count": null,
   "metadata": {
    "colab": {},
    "colab_type": "code",
    "id": "sutquANQWLVH"
   },
   "outputs": [],
   "source": [
    "def load_model(filename, model, optimizer = None, scheduler = None, mode = 'test'):\n",
    "    \"\"\"\n",
    "        This function loads previously saved model and its related training details from file specified by filename.\n",
    "        \n",
    "        Parameters:\n",
    "            filename : path of saved model file.\n",
    "            model : Instance of model to be loaded.\n",
    "            optimizer : Instance of optimizer to be loaded to previous saved state. Useful to resume training of model from saved state.\n",
    "            scheduler : Instance of scheduler to be loaded to previous saved state. Useful to resume training of model from saved state.\n",
    "            mode : Values should be 'train' or 'test'. If value is 'train', it returns model and all other information required to resume training from saved state.\n",
    "                   If value is 'test', it loads and returns only model.\n",
    "    \"\"\"\n",
    "    state_dict = torch.load(filename, map_location=lambda storage, loc: storage)\n",
    "\n",
    "    model.load_state_dict(state_dict['model'])\n",
    "    if mode == 'test':\n",
    "        return model\n",
    "\n",
    "    epoch = state_dict['epoch']\n",
    "    optimizer.load_state_dict(state_dict['optimizer'])\n",
    "    loss_tr_hist = state_dict['loss_tr_hist']\n",
    "    loss_val_hist = state_dict['loss_val_hist']\n",
    "    accuracy_tr_hist = state_dict['accuracy_tr_hist']\n",
    "    accuracy_val_hist = state_dict['accuracy_val_hist']\n",
    "    early_stop_counter = state_dict['early_stop_counter']\n",
    "    if scheduler is not None:\n",
    "        scheduler.load_state_dict(state_dict['scheduler'])\n",
    "\n",
    "    return epoch, model, optimizer, scheduler, early_stop_counter, loss_tr_hist, loss_val_hist, accuracy_tr_hist, accuracy_val_hist"
   ]
  },
  {
   "cell_type": "code",
   "execution_count": null,
   "metadata": {
    "colab": {},
    "colab_type": "code",
    "id": "46CmBTgEWLOP"
   },
   "outputs": [],
   "source": [
    "def train(dataloader, model_d, model_g, optimizer_d, optimizer_g, criterion_d, criterion_g, steps_per_epoch):\n",
    "    \"\"\"\n",
    "        Function to perform training step.\n",
    "        \n",
    "        This function performs primary step of training. It performs forward and backward pass to update model parameters. It is called by fit() function during each epoch. \n",
    "        Returns loss and accuracy for current epoch.\n",
    "    \"\"\"\n",
    "    batch = 0\n",
    "    loss_d = 0.0\n",
    "    loss_g = 0.0\n",
    "    content_loss = 0.0\n",
    "    adversarial_loss = 0.0\n",
    "    ssim_tr = 0.0\n",
    "\n",
    "    model_d.train()\n",
    "    model_g.train()\n",
    "    for step, (i_lr, i_hr) in enumerate(dataloader):\n",
    "\n",
    "        # Prepare Low Resolution (real downsampled), High Resolution (real) and Super Resolution (fake) Images\n",
    "        i_lr = i_lr.to(device, non_blocking=False)\n",
    "        i_hr = i_hr.to(device, non_blocking=False)\n",
    "        i_sr = model_g(i_lr)\n",
    "\n",
    "        # Prepare labels for high resolution (real) and super resolution (fake) images.\n",
    "        batch_size = i_hr.size(0)        \n",
    "        label_hr = torch.full((batch_size,1), 1, device=device)\n",
    "        label_sr = torch.full((batch_size,1), 0, device=device)\n",
    "\n",
    "        # Clear Gradients of both generator and descriminator models\n",
    "        model_d.zero_grad()        \n",
    "        model_g.zero_grad() \n",
    "\n",
    "        # Calculate discriminator loss and gradients for high resolution (real) images\n",
    "        logits_d_hr = model_d(i_hr)\n",
    "        if DEBUG:\n",
    "            print(\"Discriminator Logits (Real Pass):\", logits_d_hr)\n",
    "        cur_loss_d_hr = criterion_d(logits_d_hr, label_hr)\n",
    "        cur_loss_d_hr.backward()\n",
    "\n",
    "        # Calculate discriminator loss and gradients for super resolution (fake) images\n",
    "        logits_d_sr = model_d(i_sr)\n",
    "        if DEBUG:\n",
    "            print(\"Discriminator Logits (Fake Pass):\", logits_d_sr)\n",
    "        cur_loss_d_sr = criterion_d(logits_d_sr, label_sr)       \n",
    "        cur_loss_d_sr.backward()\n",
    "        \n",
    "        cur_loss_d = cur_loss_d_hr + cur_loss_d_sr\n",
    "        # Update Descriminator\n",
    "        optimizer_d.step()\n",
    "        loss_d += cur_loss_d.item()\n",
    "        \n",
    "        # Get logits from updated discriminator and calculate perceptual loss and gradients for generator\n",
    "        i_sr = model_g(i_lr)\n",
    "        logits_d_sr = model_d(i_sr)\n",
    "        if DEBUG:\n",
    "            print(\"Discriminator Logits (Generator Pass):\", logits_d_sr)\n",
    "        cur_content_loss, cur_adversarial_loss, perceptual_loss = criterion_g(i_sr, i_hr, logits_d_sr, label_hr)\n",
    "        cur_loss_g = perceptual_loss\n",
    "        torch.cuda.empty_cache()\n",
    "        cur_loss_g.backward()\n",
    "        # Update Generator\n",
    "        optimizer_g.step()\n",
    "\n",
    "        loss_g += cur_loss_g.item()\n",
    "        content_loss += cur_content_loss.item()\n",
    "        adversarial_loss += cur_adversarial_loss.item()\n",
    "        # Display Progres Bar. \n",
    "        # Reference - https://stackoverflow.com/questions/46141302/how-to-make-a-still-progress-in-python/46141777\n",
    "        batch += 1\n",
    "        completed = math.floor(step / steps_per_epoch * 50)\n",
    "        print('\\r' + 'Training: ' + '▮' * completed + '▯' * (50-completed) + str(completed*2) + '%', end='')\n",
    "        \n",
    "        if step == steps_per_epoch:\n",
    "            break\n",
    "    \n",
    "    print('\\r', end='')\n",
    "    \n",
    "    loss_d /= float(steps_per_epoch * dataloader.batch_size)\n",
    "    loss_g /= float(steps_per_epoch * dataloader.batch_size)\n",
    "    content_loss /= float(steps_per_epoch * dataloader.batch_size)\n",
    "    adversarial_loss /= float(steps_per_epoch * dataloader.batch_size)\n",
    "    #ssim_tr /= float(steps_per_epoch)\n",
    "    return loss_d, loss_g, content_loss, adversarial_loss#, ssim_tr"
   ]
  },
  {
   "cell_type": "code",
   "execution_count": null,
   "metadata": {
    "colab": {},
    "colab_type": "code",
    "id": "fYkFzyGZWLGc"
   },
   "outputs": [],
   "source": [
    "def validate(dataloader, model_d, model_g, criterion_d, criterion_g):\n",
    "    \"\"\"\n",
    "        Function to perform validation step.\n",
    "        \n",
    "        This function is used to perform validation of a model. It is called by function fit() during each epoch.\n",
    "        Returns validation loss and accuracy for current epoch.\n",
    "    \"\"\"\n",
    "\n",
    "    batch = 0    \n",
    "    loss_d = 0.0\n",
    "    loss_g = 0.0\n",
    "    content_loss = 0.0\n",
    "    adversarial_loss = 0.0\n",
    "\n",
    "    model_d.eval()\n",
    "    model_g.eval()\n",
    "    with torch.no_grad():\n",
    "        for i_lr, i_hr in dataloader:\n",
    "            \n",
    "            # Prepare Low Resolution (real downsampled), High Resolution (real) and Super Resolution (fake) Images            \n",
    "            i_lr = i_lr.to(device, non_blocking=False)\n",
    "            i_hr = i_hr.to(device, non_blocking=False)\n",
    "            i_sr = model_g(i_lr)\n",
    "            \n",
    "            # Prepare labels for high resolution (real) and super resolution (fake) images.            \n",
    "            batch_size = i_hr.size(0)    \n",
    "            label_hr = torch.full((batch_size,1), 1, device=device)\n",
    "            label_sr = torch.full((batch_size,1), 0, device=device)\n",
    "\n",
    "            \n",
    "            logits_d_hr = model_d(i_hr)\n",
    "            cur_loss_d_hr = criterion_d(logits_d_hr, label_hr)                           \n",
    "\n",
    "            logits_d_sr = model_d(i_sr)\n",
    "            cur_loss_d_sr = criterion_d(logits_d_sr, label_sr)\n",
    "            \n",
    "            cur_loss_d = cur_loss_d_hr + cur_loss_d_sr\n",
    "            loss_d += cur_loss_d.item()\n",
    "        \n",
    "            cur_content_loss, cur_adversarial_loss, perceptual_loss  = criterion_g(i_sr, i_hr, logits_d_sr, label_hr)\n",
    "            cur_loss_g = perceptual_loss\n",
    "            loss_g += cur_loss_g.item()\n",
    "\n",
    "            content_loss += cur_content_loss.item()\n",
    "            adversarial_loss += cur_adversarial_loss.item()\n",
    "            \n",
    "            # Display Progres Bar. \n",
    "            # Reference - https://stackoverflow.com/questions/46141302/how-to-make-a-still-progress-in-python/46141777        \n",
    "            batch += 1\n",
    "            completed = math.floor(batch * dataloader.batch_size / len(dataloader.dataset) * 50)\n",
    "            print('\\r' + 'Validation: ' + '▮' * completed + '▯' * (50-completed) + str(completed*2) + '%', end='')\n",
    "    \n",
    "    print('\\r', end='')        \n",
    "        \n",
    "    loss_d = loss_d / float(len(dataloader.dataset))\n",
    "    loss_g = loss_g / float(len(dataloader.dataset))\n",
    "    content_loss = content_loss / float(len(dataloader.dataset))\n",
    "    adversarial_loss = adversarial_loss / float(len(dataloader.dataset))\n",
    "\n",
    "    return loss_d, loss_g, content_loss, adversarial_loss"
   ]
  },
  {
   "cell_type": "code",
   "execution_count": null,
   "metadata": {
    "colab": {},
    "colab_type": "code",
    "id": "fKYYXt7MWTmX"
   },
   "outputs": [],
   "source": [
    "def fit(dataloader_tr, dataloader_val, model_d, model_g, criterion_d, criterion_g, optimizer_d, optimizer_g, max_epoch = 100, steps_per_epoch = 50, scheduler_d = None, scheduler_g = None, filename = None, early_stop = True, patience = 10, resume = False):\n",
    "    \"\"\"\n",
    "        Function to train and validate model for given epochs. It calls train and validate functions.\n",
    "        \n",
    "        Parameters: \n",
    "            dataloader_tr : data loader for training dataset.\n",
    "            dataloader_val : dataloader for validation dataset.\n",
    "            model : Instance of a Model. which is to be trained.\n",
    "            criterion : criterion or loss function\n",
    "            optimizer : Instance of Optimizer.\n",
    "            max_epoch : Maximum number of epochs to train model\n",
    "            steps_per_epoch : Number of batches to train per epoch\n",
    "            scheduler : learning rate scheduler to change value of learning rate while model is trained.\n",
    "            filename : Filename to save the best model during training. Function will save model with lowest validation loss, so that best model can be retrieved after training.\n",
    "                       If resume = True, filename will be used to load previously saved model and resume the training.\n",
    "            early_stop : If True, training will be stopped when validation_loss doesnt improve for epochs specified by patience. Recommended to prevent overfitting.\n",
    "            patience : number of epochs to wait for early_stopping.\n",
    "            resume : If True, model specified by filename will be loaded and training will be resumed for loaded model.\n",
    "        Returns history of Training and Validation loss for Generator and Discriminator models.\n",
    "    \"\"\"\n",
    "    start_epoch = 0\n",
    "    early_stop_counter = 0\n",
    "    min_loss_val_d = 1e10    \n",
    "    loss_tr_hist_d = []\n",
    "    loss_val_hist_d = []\n",
    "    accuracy_tr_hist_d = []\n",
    "    accuracy_val_hist_d = []\n",
    "    min_loss_val_g = 1e10    \n",
    "    loss_tr_hist_g = []\n",
    "    loss_val_hist_g = []\n",
    "    accuracy_tr_hist_g = []\n",
    "    accuracy_val_hist_g = []\n",
    "    \n",
    "    \n",
    "    if filename is not None:\n",
    "        filename_d = \"{0}_{2}{1}\".format(*os.path.splitext(filename) + tuple('d'))\n",
    "        filename_g = \"{0}_{2}{1}\".format(*os.path.splitext(filename) + tuple('g'))\n",
    "    \n",
    "    if resume == True:\n",
    "        assert filename is not None\n",
    "        \n",
    "        start_epoch, model_d, optimizer_d, scheduler_d, early_stop_counter, loss_tr_hist_d, loss_val_hist_d, accuracy_tr_hist_d, accuracy_val_hist_d = load_model(filename_d, model_d, optimizer_d, scheduler_d, mode = 'train')\n",
    "        start_epoch, model_g, optimizer_g, scheduler_g, early_stop_counter, loss_tr_hist_g, loss_val_hist_g, accuracy_tr_hist_g, accuracy_val_hist_g = load_model(filename_g, model_g, optimizer_g, scheduler_g, mode = 'train')\n",
    "        \n",
    "    for epoch in range(start_epoch+1, max_epoch + 1):\n",
    "        t0 = time.time()\n",
    "\n",
    "        loss_tr_d, loss_tr_g, content_loss_tr, adversarial_loss_tr = train(dataloader_tr, model_d, model_g, optimizer_d, optimizer_g, criterion_d, criterion_g, steps_per_epoch)\n",
    "        loss_tr_hist_d.append(loss_tr_d)\n",
    "        loss_tr_hist_g.append(loss_tr_g)\n",
    "\n",
    "        if dataloader_val is not None:\n",
    "            optimizer_d.swap_swa_sgd()\n",
    "            optimizer_g.swap_swa_sgd()\n",
    "            loss_val_d, loss_val_g, content_loss_val, adversarial_loss_val = validate(dataloader_val, model_d, model_g, criterion_d, criterion_g)\n",
    "            loss_val_hist_d.append(loss_val_d)\n",
    "            loss_val_hist_g.append(loss_val_g)\n",
    "\n",
    "        if scheduler_d is not None:\n",
    "            scheduler_d.step(loss_val_d)\n",
    "\n",
    "        if scheduler_g is not None:\n",
    "            scheduler_g.step(loss_val_g)\n",
    "        \n",
    "        # Save model weights at every 5 epochs.\n",
    "        if filename is not None:\n",
    "            if epoch % 5 == 0:\n",
    "                save_model(filename_g, model_g, optimizer_g, scheduler_g, epoch, loss_tr_hist_g, loss_val_hist_g, None, None, early_stop_counter)\n",
    "                save_model(filename_d, model_d, optimizer_d, scheduler_d, epoch, loss_tr_hist_d, loss_val_hist_d, None, None, early_stop_counter)\n",
    "\n",
    "        if dataloader_val is not None:\n",
    "            print(\"[{0:3d} / {1:3d}]  |  Loss_Tr_d: {2:10.7f}  |  Loss_Tr_g: {3:10.7f}/{4:10.7f}/{5:10.7f}  |  Loss_Val_d: {6:10.7f}  |  Loss_Val_g: {7:10.7f}/{8:10.7f}/{9:10.7f}  |  Time taken: {10:7.4f}s\".format(epoch, max_epoch, loss_tr_d, loss_tr_g, content_loss_tr, adversarial_loss_tr, loss_val_d, loss_val_g, content_loss_val, adversarial_loss_val, time.time() - t0))\n",
    "        else:\n",
    "            print(\"[{0:3d} / {1:3d}]  |  Loss_Tr_d: {2:10.7f}  |  Loss_Tr_g: {3:10.7f}/{4:10.7f}/{5:10.7f}  |  Time taken: {6:7.4f}s\".format(epoch, max_epoch, loss_tr_d, loss_tr_g, content_loss_tr, adversarial_loss_tr, time.time() - t0)) \n",
    "        \n",
    "        if early_stop == True and early_stop_counter > patience:\n",
    "            print('\\nEarly Stopping ... !')\n",
    "            break\n",
    "\n",
    "    return loss_tr_hist_d, loss_val_hist_d, loss_tr_hist_g, loss_val_hist_g"
   ]
  },
  {
   "cell_type": "code",
   "execution_count": null,
   "metadata": {
    "colab": {},
    "colab_type": "code",
    "id": "LuJ4f6pcWTSi"
   },
   "outputs": [],
   "source": [
    "def init_weights(module):\n",
    "    \"\"\" Function to initialze weights using Kaiming Uniform method\"\"\"\n",
    "    if isinstance(module, nn.Conv2d):\n",
    "        init.kaiming_uniform_(module.weight, mode='fan_in', nonlinearity='relu')\n",
    "    if isinstance(module, nn.Linear):\n",
    "        init.kaiming_uniform_(module.weight, mode='fan_in', nonlinearity='relu')"
   ]
  },
  {
   "cell_type": "markdown",
   "metadata": {
    "colab_type": "text",
    "id": "ASNnH0r1N0oZ"
   },
   "source": [
    "# Model Definitions"
   ]
  },
  {
   "cell_type": "code",
   "execution_count": null,
   "metadata": {
    "colab": {},
    "colab_type": "code",
    "id": "OV3G-EDrukXR"
   },
   "outputs": [],
   "source": [
    "class ResidualBlock(nn.Module):\n",
    "    \"\"\" Implementaion of Residual Block. Used in generator and discriminator networks. \"\"\"\n",
    "    def __init__(self, in_feature_maps, out_feature_maps, spectral_norm = True):\n",
    "        super(ResidualBlock, self).__init__()\n",
    "\n",
    "        self.convI_O_3_1 = nn.Conv2d(in_channels = in_feature_maps, out_channels = out_feature_maps, kernel_size = 3, stride = 1, padding = 1)\n",
    "        if spectral_norm:\n",
    "            self.convI_O_3_1 = nn.utils.spectral_norm(self.convI_O_3_1)\n",
    "        self.bnO = nn.BatchNorm2d(out_feature_maps)\n",
    "        self.prelu = nn.PReLU(num_parameters=1, init=0.25)       \n",
    "\n",
    "    def forward(self, input):\n",
    "        x = self.convI_O_3_1(input)\n",
    "        x = self.prelu(x)\n",
    "        x = self.bnO(x)\n",
    "\n",
    "        x = self.convI_O_3_1(x)\n",
    "        x = (x)\n",
    "        x = self.bnO(x) + input\n",
    "        return x"
   ]
  },
  {
   "cell_type": "code",
   "execution_count": null,
   "metadata": {
    "colab": {},
    "colab_type": "code",
    "id": "WXZ1FoqCunNo"
   },
   "outputs": [],
   "source": [
    "class UpscaleBlock(nn.Module):\n",
    "    \"\"\" Upscaling Block using Pixel Shuffle to increase image dimensions. Used in Generator Network\"\"\"\n",
    "    def __init__(self, in_feature_maps, upscale_factor = 2):\n",
    "        super(UpscaleBlock, self).__init__()\n",
    "        \n",
    "        self.convI_O_3_1 = nn.Conv2d(in_channels = in_feature_maps, out_channels = (in_feature_maps * upscale_factor ** 2), kernel_size = 3, stride = 1, padding = 1)   \n",
    "        self.pixel_shuffler = nn.PixelShuffle(upscale_factor = upscale_factor)\n",
    "        self.prelu = nn.PReLU(num_parameters=1, init=0.25)\n",
    "\n",
    "    def forward(self, input):\n",
    "        return self.prelu(self.pixel_shuffler(self.convI_O_3_1(input)))"
   ]
  },
  {
   "cell_type": "code",
   "execution_count": null,
   "metadata": {
    "colab": {},
    "colab_type": "code",
    "id": "nx5SoeDXupsb"
   },
   "outputs": [],
   "source": [
    "class SelfAttentionBlock(nn.Module):\n",
    "    \"\"\" \n",
    "        Implementation of Self attention Block according to paper \n",
    "        Self-Attention Generative Adversarial Networks (https://arxiv.org/abs/1805.08318) \n",
    "        Used in Generator and Discriminator Networks.\n",
    "    \"\"\"\n",
    "    def __init__(self,in_feature_maps):\n",
    "        super(SelfAttentionBlock,self).__init__()\n",
    "\n",
    "        self.in_feature_maps = in_feature_maps\n",
    "\n",
    "        self.conv_f = nn.Conv1d(in_channels = in_feature_maps , out_channels = in_feature_maps//8 , kernel_size= 1, padding = 0)\n",
    "        self.conv_g = nn.Conv1d(in_channels = in_feature_maps , out_channels = in_feature_maps//8 , kernel_size= 1, padding = 0)\n",
    "        self.conv_h = nn.Conv1d(in_channels = in_feature_maps , out_channels = in_feature_maps , kernel_size= 1, padding = 0)\n",
    "\n",
    "        self.gamma = nn.Parameter(torch.zeros(1))\n",
    "        self.softmax  = nn.Softmax(dim = -1)\n",
    "    def forward(self,input):\n",
    "        batch_size, C, width, height = input.size()\n",
    "        N = width * height\n",
    "        x = input.view(batch_size, -1, N)\n",
    "        f = self.conv_f(x)\n",
    "        g = self.conv_g(x)\n",
    "        h = self.conv_h(x)\n",
    "\n",
    "        s =  torch.bmm(f.permute(0,2,1),g)\n",
    "        beta = self.softmax(s)\n",
    "        o = torch.bmm(h,beta)\n",
    "        o = o.view((batch_size, C, width, height))\n",
    "\n",
    "        return self.gamma*o + input\n"
   ]
  },
  {
   "cell_type": "code",
   "execution_count": null,
   "metadata": {
    "colab": {},
    "colab_type": "code",
    "id": "4FA_kLvDusYy"
   },
   "outputs": [],
   "source": [
    "class Generator(nn.Module):\n",
    "    \"\"\" \n",
    "        Implementation of Generator Network\n",
    "        Parameters:\n",
    "            scaling_factor : factor by which image needs to be scaled. Default 2\n",
    "            spectral_norm : To use Spectral Normalization or not. Default True\n",
    "            self_attention : To include self_attention layer in model or not. Default True\n",
    "    \"\"\"\n",
    "    def __init__(self, scaling_factor = 2, spectral_norm = True, self_attention = True):\n",
    "        super(Generator, self).__init__()\n",
    "        \n",
    "        self.scaling_factor = scaling_factor\n",
    "        self.self_attention = self_attention\n",
    "        self.spectral_norm = spectral_norm\n",
    "        \n",
    "        self.conv3_64_9_1 = nn.Conv2d(in_channels = 3, out_channels = 64, kernel_size = 9, stride = 1, padding = 4)\n",
    "        self.conv64_64_3_1 = nn.Conv2d(in_channels = 64, out_channels = 64, kernel_size = 3, stride = 1, padding = 1)        \n",
    "        self.conv64_3_9_1 = nn.Conv2d(in_channels = 64, out_channels = 3, kernel_size = 9, stride = 1, padding = 4)\n",
    "        \n",
    "        if self.spectral_norm:\n",
    "            self.conv3_64_9_1 = nn.utils.spectral_norm(self.conv3_64_9_1)\n",
    "            self.conv64_64_3_1 = nn.utils.spectral_norm(self.conv64_64_3_1)\n",
    "            self.conv64_3_9_1 = nn.utils.spectral_norm(self.conv64_3_9_1)\n",
    "\n",
    "        if self.self_attention:\n",
    "            self.self_attention_block_64_1 = SelfAttentionBlock(in_feature_maps = 64)\n",
    "            self.self_attention_block_64_2 = SelfAttentionBlock(in_feature_maps = 64)\n",
    "        \n",
    "        self.upscale_block_64_u = UpscaleBlock(in_feature_maps = 64, upscale_factor = 2)\n",
    "        \n",
    "        self.res_block_64_64 = ResidualBlock(in_feature_maps = 64, out_feature_maps = 64, spectral_norm = spectral_norm)\n",
    "        \n",
    "        self.bn64 = nn.BatchNorm2d(64)        \n",
    "        \n",
    "        self.prelu = nn.PReLU(num_parameters=1, init=0.25)\n",
    "        \n",
    "        self.sigmoid = nn.Sigmoid()\n",
    "        \n",
    "        self.tanh = nn.Tanh()\n",
    "\n",
    "    def forward(self, input):\n",
    "        x = self.prelu(self.conv3_64_9_1(input))\n",
    "        x1 = x\n",
    "        x = self.res_block_64_64(x)\n",
    "        x = self.res_block_64_64(x)\n",
    "        x = self.res_block_64_64(x)\n",
    "        x = self.res_block_64_64(x)\n",
    "        x = self.res_block_64_64(x)\n",
    "        if self.self_attention:\n",
    "            x = self.self_attention_block_64_1(x)        \n",
    "        x = self.conv64_64_3_1(x)\n",
    "        x = self.bn64(x) + x1\n",
    "        \n",
    "        if self.self_attention:\n",
    "            x = self.self_attention_block_64_2(x)\n",
    "            \n",
    "        for i in range(self.scaling_factor // 2):\n",
    "            x = self.upscale_block_64_u(x)\n",
    "        x = self.conv64_3_9_1(x)\n",
    "        x = self.tanh(x)\n",
    "        return x"
   ]
  },
  {
   "cell_type": "code",
   "execution_count": null,
   "metadata": {
    "colab": {},
    "colab_type": "code",
    "id": "x5v7T6hcvWG_"
   },
   "outputs": [],
   "source": [
    "class DiscConvBlock(nn.Module):\n",
    "    \"\"\" \n",
    "        Implementation of one Convolution Block of Discriminator Network according to Paper SR GAN.\n",
    "        Parameters:\n",
    "            in_feature_maps : Number of channels of input tensor\n",
    "            out_feature_maps : Number of channels of output tensor\n",
    "            spectral_norm : To use Spectral Normalization or not. Default True\n",
    "    \"\"\"\n",
    "\n",
    "    def __init__(self, in_feature_maps, out_feature_maps, spectral_norm = True):\n",
    "        super(DiscConvBlock, self).__init__()\n",
    "\n",
    "        self.convI_O_3_1 = nn.Conv2d(in_channels = in_feature_maps, out_channels = out_feature_maps, kernel_size = 3, stride = 1, padding = 1)\n",
    "        self.convO_O_3_2 = nn.Conv2d(in_channels = out_feature_maps, out_channels = out_feature_maps, kernel_size = 3, stride = 2, padding = 1)\n",
    "        \n",
    "        if spectral_norm:\n",
    "            self.convI_O_3_1 = nn.utils.spectral_norm(self.convI_O_3_1)\n",
    "            self.convO_O_3_2 = nn.utils.spectral_norm(self.convO_O_3_2)\n",
    "        \n",
    "        self.bnO = nn.BatchNorm2d(out_feature_maps)        \n",
    "        self.lrelu = nn.LeakyReLU(negative_slope=0.2, inplace=False)\n",
    "\n",
    "    def forward(self, input):\n",
    "        \n",
    "        x = self.lrelu(self.bnO(self.convI_O_3_1(input)))\n",
    "        x = self.lrelu(self.bnO(self.convO_O_3_2(x)))\n",
    "\n",
    "        return x"
   ]
  },
  {
   "cell_type": "code",
   "execution_count": null,
   "metadata": {
    "colab": {},
    "colab_type": "code",
    "id": "a8TkwhxjzNi4"
   },
   "outputs": [],
   "source": [
    "class Discriminator(nn.Module):\n",
    "    \"\"\" \n",
    "        Implementation of Discriminator Network.\n",
    "        Expected input image size is 224x224\n",
    "        Parameters:\n",
    "            spectral_norm : To use Spectral Normalization or not. Default True\n",
    "            self_attention : To include self_attention layer or not. Default True\n",
    "    \"\"\"\n",
    "    def __init__(self, spectral_norm = True, self_attention = True):\n",
    "        super(Discriminator, self).__init__()\n",
    "\n",
    "        self.self_attention = self_attention\n",
    "        self.spectral_norm = spectral_norm\n",
    "\n",
    "        self.conv_3_64_3_1 = nn.Conv2d(in_channels = 3, out_channels = 64, kernel_size = 3, stride = 1, padding = 1)\n",
    "        self.conv_64_64_3_2 = nn.Conv2d(in_channels = 64, out_channels = 64, kernel_size = 3, stride = 2, padding = 1)\n",
    "        self.conv_block_64_128 = DiscConvBlock(in_feature_maps = 64, out_feature_maps = 128, spectral_norm = spectral_norm)\n",
    "        self.conv_block_128_256 = DiscConvBlock(in_feature_maps = 128, out_feature_maps = 256, spectral_norm = spectral_norm)\n",
    "        self.conv_block_256_512 = DiscConvBlock(in_feature_maps = 256, out_feature_maps = 512, spectral_norm = spectral_norm)\n",
    "\n",
    "        self.conv_512_128_3_2 = nn.Conv2d(in_channels = 512, out_channels = 128, kernel_size = 3, stride = 2, padding = 1)\n",
    "        self.conv_128_32_3_2 = nn.Conv2d(in_channels = 128, out_channels = 32, kernel_size = 3, stride = 2, padding = 1)\n",
    "        self.conv_32_1_3_2 = nn.Conv2d(in_channels = 32, out_channels = 1, kernel_size = 3, stride = 2, padding = 0)\n",
    "\n",
    "        if self.spectral_norm:\n",
    "            self.conv_3_64_3_1 = nn.utils.spectral_norm(self.conv_3_64_3_1)\n",
    "            self.conv_64_64_3_2 = nn.utils.spectral_norm(self.conv_64_64_3_2)\n",
    "            self.conv_512_128_3_2 = nn.utils.spectral_norm(self.conv_512_128_3_2)\n",
    "            self.conv_128_32_3_2 = nn.utils.spectral_norm(self.conv_128_32_3_2)\n",
    "            self.conv_32_1_3_2 = nn.utils.spectral_norm(self.conv_32_1_3_2)\n",
    "\n",
    "        if self.self_attention:\n",
    "            self.self_attention_block_128 = SelfAttentionBlock(in_feature_maps = 128)\n",
    "            self.self_attention_block_32 = SelfAttentionBlock(in_feature_maps = 32)\n",
    "\n",
    "        self.bn64 =  nn.BatchNorm2d(64)\n",
    "        self.bn128 =  nn.BatchNorm2d(128)\n",
    "        self.bn32 =  nn.BatchNorm2d(32)\n",
    "        self.bn4 =  nn.BatchNorm2d(4)\n",
    "        self.lrelu = nn.LeakyReLU(negative_slope=0.2, inplace=False)\n",
    "        self.sigmoid = nn.Sigmoid()\n",
    "        \n",
    "    def forward(self, input):\n",
    "        x = self.lrelu(self.conv_3_64_3_1(input))\n",
    "        x = self.lrelu(self.bn64(self.conv_64_64_3_2(x)))\n",
    "        x = self.conv_block_64_128(x)\n",
    "        x = self.conv_block_128_256(x)\n",
    "        x = self.conv_block_256_512(x)\n",
    "        x = self.lrelu(self.bn128(self.conv_512_128_3_2(x)))\n",
    "        if self.self_attention:\n",
    "            x = self.self_attention_block_128(x)        \n",
    "        x = self.lrelu(self.bn32(self.conv_128_32_3_2(x)))\n",
    "        if self.self_attention:\n",
    "            x = self.self_attention_block_32(x)        \n",
    "        x = self.conv_32_1_3_2(x)\n",
    "        x = x.view(-1,1)\n",
    "            \n",
    "        return x"
   ]
  },
  {
   "cell_type": "code",
   "execution_count": null,
   "metadata": {
    "colab": {},
    "colab_type": "code",
    "id": "5A3wCVf_gN0u"
   },
   "outputs": [],
   "source": [
    "class VggFeatureExtractor(nn.Module):\n",
    "    \"\"\"\n",
    "        This Block extracts features from given layers of VGG19.\n",
    "    \"\"\"\n",
    "    def __init__(self):\n",
    "        super(VggFeatureExtractor, self).__init__()\n",
    "        self.vgg = vgg19(pretrained=True).to(device)\n",
    "        self.vgg.eval()\n",
    "        for param in self.vgg.parameters():\n",
    "            param.requires_grad = False\n",
    "\n",
    "    def forward(self, input, layers):\n",
    "        x = input\n",
    "        output = []\n",
    "        for name, layer in enumerate(self.vgg.features):\n",
    "            x = layer(x)\n",
    "            if str(name) in layers:\n",
    "                output.append(x)\n",
    "        return output"
   ]
  },
  {
   "cell_type": "code",
   "execution_count": null,
   "metadata": {
    "colab": {},
    "colab_type": "code",
    "id": "3th_qpM-Ssry"
   },
   "outputs": [],
   "source": [
    "class PerceptualLoss(nn.Module):\n",
    "    \"\"\"\n",
    "        This Block calculated Perceptual loss between two images.\n",
    "        It extracts features from intermediate 4 conv layers of VGG19 network for both images \n",
    "        and calculates MSE between extracted features. This is called content loss.\n",
    "        It calculates Adversarial loss as per Normal GAN generator network loss.\n",
    "        Perceptual Loss is weighted sum of Content and Adversarial Loss.    \n",
    "    \"\"\"\n",
    "    def __init__(self):\n",
    "        super(PerceptualLoss, self).__init__()\n",
    "        \n",
    "        self.content_layers = {'10': 'conv3_1',\n",
    "                               '19': 'conv4_1',\n",
    "                               '21': 'conv4_2',\n",
    "                               '28': 'conv5_1'}\n",
    "        self.feature_extractor = VggFeatureExtractor()\n",
    "        self.mse_loss = nn.MSELoss()\n",
    "        self.bce_loss = nn.BCEWithLogitsLoss()\n",
    "\n",
    "    def forward(self, i_sr, i_hr, discriminator_logits, target_label):\n",
    "\n",
    "        i_sr_features = self.feature_extractor(i_sr, self.content_layers)\n",
    "        i_hr_features = self.feature_extractor(i_hr, self.content_layers)\n",
    "        \n",
    "        content_loss = 0.0\n",
    "        for i in range(len(i_sr_features)):\n",
    "            content_loss += self.mse_loss(i_sr_features[i], i_hr_features[i])\n",
    "        content_loss /= len(i_sr_features)\n",
    "        \n",
    "        adversarial_loss = self.bce_loss(discriminator_logits, target_label)\n",
    "\n",
    "        return content_loss, adversarial_loss, content_loss + 0.001 * adversarial_loss"
   ]
  },
  {
   "cell_type": "code",
   "execution_count": null,
   "metadata": {
    "colab": {},
    "colab_type": "code",
    "id": "mwzjKXPxrRu-"
   },
   "outputs": [],
   "source": [
    "class TrainingDataset(Dataset):\n",
    "    \"\"\"\n",
    "        Customized Dataset class to load dataset.\n",
    "        Returns Low Resolution and High Resolution images of given shape.\n",
    "        If input image size is too large compared to High resolution Image dimensions, performs center crop.\n",
    "        Then it performs Random crop of size hr_img_size on center cropped image and generates high resolution and low resolution images.\n",
    "\n",
    "        Parameters:\n",
    "            img_dir : Directory Path where Images are stored.\n",
    "            transform : transformations to be applied on Images.\n",
    "            hr_img_size : Size of High Resolution Image.\n",
    "            scaling_factor : scaling factor by which low resolution images will be scaled. \n",
    "                             Used to calculate size of low resolution image (hr_img_size / scaling_factor).\n",
    "    \"\"\"\n",
    "    def __init__(self, img_dir, transform, hr_img_size, scaling_factor = 2):\n",
    "\n",
    "        self.transform = transform\n",
    "        self.scaling_factor = scaling_factor\n",
    "        self.hr_img_size = hr_img_size        \n",
    "        \n",
    "        self.img_dir = os.path.expanduser(img_dir)\n",
    "        self.images = [os.path.join(self.img_dir, img_name) for img_name in os.listdir(img_dir)]\n",
    "\n",
    "    def __len__(self):\n",
    "        # return size of dataset\n",
    "        return len(self.images)\n",
    "\n",
    "    def __getitem__(self, idx):\n",
    "        image_hr = Image.open(self.images[idx])  # PIL image\n",
    "        img_size = image_hr.size\n",
    "\n",
    "        center_crop_size_x = min(((img_size[0]//2 - hr_img_size[0])//2), hr_img_size[0])\n",
    "        center_crop_size_y = min(((img_size[1]//2 - hr_img_size[1])//2), hr_img_size[1])        \n",
    "        image_hr = transforms.Compose([transforms.CenterCrop((center_crop_size_x,center_crop_size_y)), transforms.Resize(self.hr_img_size, interpolation=Image.BICUBIC)])(image_hr)\n",
    "\n",
    "        image_lr = transforms.Resize((image_hr.size[1]//self.scaling_factor, image_hr.size[0]//self.scaling_factor), interpolation=Image.BICUBIC)(image_hr)\n",
    "        return self.transform(image_lr).cuda(), self.transform(image_hr).cuda()\n",
    "        \n",
    "    def get_img_shape(self):\n",
    "        image_lr, image_hr = self.__getitem__(0)\n",
    "        return image_hr.size()"
   ]
  },
  {
   "cell_type": "code",
   "execution_count": null,
   "metadata": {
    "colab": {},
    "colab_type": "code",
    "id": "ZqGe5m1aQzZc"
   },
   "outputs": [],
   "source": [
    "class TestDataset(Dataset):\n",
    "    \"\"\"\n",
    "        Dataset class to load dataset.\n",
    "        Parameters:\n",
    "            img_dir : Directory Path where Images are stored.\n",
    "            transform : transformations to be applied on Images.\n",
    "    \"\"\"\n",
    "    def __init__(self, img_dir, transform):\n",
    "\n",
    "        self.transform = transform\n",
    "        \n",
    "        self.img_dir = os.path.expanduser(img_dir)\n",
    "        self.images = [os.path.join(self.img_dir, img_name) for img_name in os.listdir(img_dir)]\n",
    "\n",
    "    def __len__(self):\n",
    "        # return size of dataset\n",
    "        return len(self.images)\n",
    "\n",
    "    def __getitem__(self, idx):\n",
    "        image = Image.open(self.images[idx])  # PIL image\n",
    "\n",
    "        return self.transform(image), self.images[idx]"
   ]
  },
  {
   "cell_type": "code",
   "execution_count": null,
   "metadata": {
    "colab": {},
    "colab_type": "code",
    "id": "Kpa2q7aBQ467"
   },
   "outputs": [],
   "source": [
    "device = torch.device(\"cuda\" if (torch.cuda.is_available()) else \"cpu\")\n",
    "device"
   ]
  },
  {
   "cell_type": "markdown",
   "metadata": {
    "colab_type": "text",
    "id": "KyjnpqKGOKrO"
   },
   "source": [
    "# Training and Validation"
   ]
  },
  {
   "cell_type": "code",
   "execution_count": null,
   "metadata": {
    "colab": {},
    "colab_type": "code",
    "id": "-dn8YiWcrQu5"
   },
   "outputs": [],
   "source": [
    "# Configuration variables\n",
    "batch_size = 16\n",
    "img_dir_tr = '/content/DIV2K_train_HR'\n",
    "img_dir_test = ''\n",
    "val_split_frac = 0.1\n",
    "DEBUG = 0\n",
    "scaling_factor = 4\n",
    "hr_img_size = (224,224)\n",
    "workers = 0\n",
    "transform = transforms.Compose([transforms.ToTensor(), transforms.Normalize((0.5, 0.5, 0.5), (0.5, 0.5, 0.5))])\n",
    "\n",
    "max_epoch = 300\n",
    "lr = 0.0001\n",
    "steps_per_epoch = 125"
   ]
  },
  {
   "cell_type": "code",
   "execution_count": null,
   "metadata": {
    "colab": {
     "base_uri": "https://localhost:8080/",
     "height": 52
    },
    "colab_type": "code",
    "id": "9CAGtQpE_shz",
    "outputId": "be984f68-74e1-4dcb-e1f8-eea8a6ead81e"
   },
   "outputs": [],
   "source": [
    "# Load training dataset and split into training and validation sets.\n",
    "\n",
    "dataset = TrainingDataset(img_dir_tr, transform = transform, hr_img_size = hr_img_size, scaling_factor = scaling_factor)\n",
    "\n",
    "idx = range(len(dataset))\n",
    "idx_val = idx[:int(len(dataset)*val_split_frac)]\n",
    "idx_tr = idx[int(len(dataset)*val_split_frac):]\n",
    "\n",
    "dataset_tr = torch.utils.data.Subset(dataset, idx_tr)\n",
    "dataset_val = torch.utils.data.Subset(dataset, idx_val)\n",
    "\n",
    "dataloader_tr = torch.utils.data.DataLoader(dataset_tr, batch_size=batch_size, shuffle=True, num_workers=workers, pin_memory = False)\n",
    "dataloader_val = torch.utils.data.DataLoader(dataset_val, batch_size=batch_size, shuffle=True, num_workers=workers, pin_memory = False)\n",
    "\n",
    "print('Training Dataset Length: ' + str(len(dataset_tr)))\n",
    "print('Validation Dataset Length: ' + str(len(dataset_val)))"
   ]
  },
  {
   "cell_type": "code",
   "execution_count": null,
   "metadata": {
    "colab": {},
    "colab_type": "code",
    "id": "f1wIUiEQI95_"
   },
   "outputs": [],
   "source": [
    "%matplotlib inline\n",
    "def show(img):\n",
    "    npimg = img.numpy()\n",
    "    plt.imshow(np.transpose(npimg, (1,2,0)), interpolation='nearest')"
   ]
  },
  {
   "cell_type": "code",
   "execution_count": null,
   "metadata": {
    "colab": {
     "base_uri": "https://localhost:8080/",
     "height": 171
    },
    "colab_type": "code",
    "id": "2AOYEbAJBFwY",
    "outputId": "0425a05b-b3f4-44e8-fc0e-e00822314fed"
   },
   "outputs": [],
   "source": [
    "# Display sample batch of Resolution and Low Resolution Images\n",
    "images_lr, images_hr = next(iter(dataloader_tr))\n",
    "show(vutils.make_grid(images_hr.cpu(), nrow=8, padding=2, normalize=True, range=None, scale_each=False, pad_value=0))\n",
    "print(\"HR Image Size:\", images_hr.size())\n",
    "print(\"LR Image Size:\", images_lr.size())"
   ]
  },
  {
   "cell_type": "code",
   "execution_count": null,
   "metadata": {
    "colab": {
     "base_uri": "https://localhost:8080/",
     "height": 136
    },
    "colab_type": "code",
    "id": "28k5h13kYhZO",
    "outputId": "0810e159-de51-49bf-a870-f97b0a18242f"
   },
   "outputs": [],
   "source": [
    "show(vutils.make_grid(images_lr.cpu(), nrow=8, padding=2, normalize=True, range=None, scale_each=False, pad_value=0))"
   ]
  },
  {
   "cell_type": "code",
   "execution_count": null,
   "metadata": {
    "colab": {
     "base_uri": "https://localhost:8080/",
     "height": 580
    },
    "colab_type": "code",
    "id": "YcGoKVvAzJe5",
    "outputId": "27588281-95fe-47a8-cfe5-74907d4ecb33"
   },
   "outputs": [],
   "source": [
    "# Create the generator\n",
    "model_g = Generator(scaling_factor = scaling_factor, spectral_norm = False, self_attention = True).to(device)\n",
    "\n",
    "# Initialize weights\n",
    "model_g.apply(init_weights)\n",
    "\n",
    "# Print the model details\n",
    "print(model_g)\n",
    "print('Total No of Model Parameters: ',sum(p.numel() for p in model_g.parameters() if p.requires_grad))"
   ]
  },
  {
   "cell_type": "code",
   "execution_count": null,
   "metadata": {
    "colab": {
     "base_uri": "https://localhost:8080/",
     "height": 791
    },
    "colab_type": "code",
    "id": "LsIWgvGlzP_T",
    "outputId": "3641f2ff-d656-4f77-ceee-b2485a0ce03b"
   },
   "outputs": [],
   "source": [
    "# Create the Discriminator\n",
    "model_d = Discriminator(spectral_norm = False, self_attention = True).to(device)\n",
    "\n",
    "# Initialize Weights\n",
    "model_d.apply(init_weights)\n",
    "\n",
    "# Print the model details\n",
    "print(model_d)\n",
    "print('Total No of Model Parameters: ',sum(p.numel() for p in model_d.parameters() if p.requires_grad))"
   ]
  },
  {
   "cell_type": "code",
   "execution_count": null,
   "metadata": {
    "colab": {},
    "colab_type": "code",
    "id": "xZVNBV8_zSlx"
   },
   "outputs": [],
   "source": [
    "# Initialize Loss functions\n",
    "criterion_d = nn.BCEWithLogitsLoss()\n",
    "criterion_g = PerceptualLoss()\n",
    "\n",
    "# Setup Adam optimizers for both Generator and Discriminator\n",
    "optimizer_d = optim.Adam(model_d.parameters(), lr=lr, betas=(0.9, 0.999))\n",
    "optimizer_g = optim.Adam(model_g.parameters(), lr=lr, betas=(0.9, 0.999))\n",
    "\n",
    "# Wrap Optimizer by Stochastic Weight Averaging module.\n",
    "# For more details on SWA, see https://pytorch.org/blog/stochastic-weight-averaging-in-pytorch/ \n",
    "optimizer_d = SWA(optimizer_d, swa_start=10, swa_freq=5, swa_lr=lr)\n",
    "optimizer_g = SWA(optimizer_g, swa_start=10, swa_freq=5, swa_lr=lr)\n",
    "\n",
    "model_filename = 'SRGAN_Model.pth'"
   ]
  },
  {
   "cell_type": "code",
   "execution_count": null,
   "metadata": {
    "colab": {},
    "colab_type": "code",
    "id": "pjpTQirkJNt9"
   },
   "outputs": [],
   "source": [
    "# Start training SR GAN.\n",
    "loss_tr_hist_d, loss_val_hist_d, loss_tr_hist_g, loss_val_hist_g = fit(dataloader_tr, dataloader_val, model_d, model_g, criterion_d, criterion_g, optimizer_d, optimizer_g, max_epoch = max_epoch, steps_per_epoch = steps_per_epoch, scheduler_d = None, scheduler_g = None, filename = model_filename, early_stop = False, patience = 10, resume = True)"
   ]
  },
  {
   "cell_type": "code",
   "execution_count": null,
   "metadata": {
    "colab": {},
    "colab_type": "code",
    "id": "CC5cd0_D5B-Q"
   },
   "outputs": [],
   "source": [
    "epoch, model_g, optimizer_g, scheduler_g, early_stop_counter, loss_tr_hist_g, loss_val_hist_g, accuracy_tr_hist_g, accuracy_val_hist_g = load_model(model = model_g, filename = 'SRGAN_Model.pth', optimizer = optimizer_g, scheduler = None, mode = 'train')"
   ]
  },
  {
   "cell_type": "code",
   "execution_count": null,
   "metadata": {
    "colab": {},
    "colab_type": "code",
    "id": "o0rJcmo7JYAW"
   },
   "outputs": [],
   "source": [
    "# set the weights of generator model to their SWA averages.\n",
    "optimizer_g.swap_swa_sgd()\n",
    "# Update Batch Normalization Layers for SWA weights by performing one forward pass.\n",
    "optimizer_g.bn_update(dataloader_tr, model_g)"
   ]
  },
  {
   "cell_type": "code",
   "execution_count": null,
   "metadata": {
    "colab": {},
    "colab_type": "code",
    "id": "xqZSt2aI4nVJ"
   },
   "outputs": [],
   "source": [
    "save_model(model_filename, model_g, optimizer_g, scheduler_g, epoch, loss_tr_hist_g, loss_val_hist_g, accuracy_tr_hist_g, accuracy_val_hist_g, early_stop_counter)"
   ]
  },
  {
   "cell_type": "code",
   "execution_count": null,
   "metadata": {
    "colab": {
     "base_uri": "https://localhost:8080/",
     "height": 52
    },
    "colab_type": "code",
    "id": "RKG5XuVL2GIr",
    "outputId": "8c25ee62-8f58-458b-dc1f-115347687e36"
   },
   "outputs": [],
   "source": [
    "ssim_score = 0.0\n",
    "psnr_score = 0.0\n",
    "for i_lr, i_hr in dataloader_val:\n",
    "    i_sr = model_g(i_lr)\n",
    "    ssim_score += ssim(i_sr, i_hr).item()\n",
    "    psnr_score += get_psnr(i_sr, i_hr)\n",
    "\n",
    "ssim_score = ssim_score / len(dataloader_val)\n",
    "psnr_score = psnr_score / len(dataloader_val)\n",
    "\n",
    "print(\"SSIM Score: \", ssim_score)\n",
    "print(\"PSNR Score: \", psnr_score)"
   ]
  },
  {
   "cell_type": "markdown",
   "metadata": {
    "colab_type": "text",
    "id": "XRNlbltNOcub"
   },
   "source": [
    "# Testing"
   ]
  },
  {
   "cell_type": "code",
   "execution_count": 38,
   "metadata": {
    "colab": {},
    "colab_type": "code",
    "id": "qq8do5ptUm__"
   },
   "outputs": [],
   "source": [
    "# Configuration variables\n",
    "batch_size = 1\n",
    "img_dir_test = 'C:/Data/BSDS300-images/BSDS300/images/test'\n",
    "save_dir = 'C:/Data/BSDS300-images/BSDS300/images/generated_images'\n",
    "transform = transforms.Compose(transforms.ToTensor(), transforms.Normalize((0.5, 0.5, 0.5), (0.5, 0.5, 0.5))])\n",
    "model_filename = 'SRGAN_Model.pth'"
   ]
  },
  {
   "cell_type": "code",
   "execution_count": 39,
   "metadata": {
    "colab": {
     "base_uri": "https://localhost:8080/",
     "height": 34
    },
    "colab_type": "code",
    "id": "arIEEIDqUEPK",
    "outputId": "1acd1289-e77f-4b55-e4b5-d14ec9fc30e6",
    "scrolled": true
   },
   "outputs": [
    {
     "name": "stdout",
     "output_type": "stream",
     "text": [
      "Test Dataset Length: 100\n"
     ]
    }
   ],
   "source": [
    "# Load training dataset and split into training and validation sets.\n",
    "\n",
    "dataset_test = TestDataset(img_dir_test, transform = transform)\n",
    "\n",
    "dataloader_test = torch.utils.data.DataLoader(dataset_test, batch_size=batch_size, shuffle=False, num_workers=0, pin_memory = True)\n",
    "\n",
    "print('Test Dataset Length: ' + str(len(dataset_test)))"
   ]
  },
  {
   "cell_type": "code",
   "execution_count": 40,
   "metadata": {
    "colab": {},
    "colab_type": "code",
    "id": "TRxq-Rh_VAbR"
   },
   "outputs": [],
   "source": [
    "# Create the generator\n",
    "model = Generator(scaling_factor = 4, spectral_norm = False, self_attention = True).to(device)\n",
    "\n",
    "model = load_model(model_filename, model, mode = 'test')\n",
    "model = model.to(device)"
   ]
  },
  {
   "cell_type": "code",
   "execution_count": 41,
   "metadata": {
    "colab": {},
    "colab_type": "code",
    "id": "w27-dxm8UygP"
   },
   "outputs": [],
   "source": [
    "for image, image_path in dataloader_test:    \n",
    "    i_sr = model(image.to(device))\n",
    "    for i in range(i_sr.size(0)):\n",
    "        filename = os.path.split(image_path[i])[1]\n",
    "        filepath = os.path.join(save_dir, filename)\n",
    "        vutils.save_image(i_sr[i, :, :, :], filepath)"
   ]
  },
  {
   "cell_type": "code",
   "execution_count": 42,
   "metadata": {
    "colab": {
     "base_uri": "https://localhost:8080/",
     "height": 2257
    },
    "colab_type": "code",
    "id": "UFSZSym9pzEH",
    "outputId": "f995a5a2-8036-4f80-b3d4-c3c8c030ba54"
   },
   "outputs": [
    {
     "data": {
      "image/jpeg": "[encoded data removed]",
      "text/plain": [
       "<IPython.core.display.Image object>"
      ]
     },
     "metadata": {},
     "output_type": "display_data"
    },
    {
     "data": {
      "image/jpeg": "[encoded data removed]",
      "text/plain": [
       "<IPython.core.display.Image object>"
      ]
     },
     "metadata": {},
     "output_type": "display_data"
    },
    {
     "data": {
      "image/jpeg": "[encoded data removed]",
      "text/plain": [
       "<IPython.core.display.Image object>"
      ]
     },
     "metadata": {},
     "output_type": "display_data"
    },
    {
     "data": {
      "image/jpeg": "[encoded data removed]",
      "text/plain": [
       "<IPython.core.display.Image object>"
      ]
     },
     "metadata": {},
     "output_type": "display_data"
    },
    {
     "data": {
      "image/jpeg": "[encoded data removed]",
      "text/plain": [
       "<IPython.core.display.Image object>"
      ]
     },
     "metadata": {},
     "output_type": "display_data"
    },
    {
     "data": {
      "image/jpeg": "[encoded data removed]",
      "text/plain": [
       "<IPython.core.display.Image object>"
      ]
     },
     "metadata": {},
     "output_type": "display_data"
    },
    {
     "data": {
      "image/jpeg": "[encoded data removed]",
      "text/plain": [
       "<IPython.core.display.Image object>"
      ]
     },
     "metadata": {},
     "output_type": "display_data"
    },
    {
     "data": {
      "image/jpeg": "[encoded data removed]",
      "text/plain": [
       "<IPython.core.display.Image object>"
      ]
     },
     "metadata": {},
     "output_type": "display_data"
    },
    {
     "data": {
      "image/jpeg": "[encoded data removed]",
      "text/plain": [
       "<IPython.core.display.Image object>"
      ]
     },
     "metadata": {},
     "output_type": "display_data"
    },
    {
     "data": {
      "image/jpeg": "[encoded data removed]",
      "text/plain": [
       "<IPython.core.display.Image object>"
      ]
     },
     "metadata": {},
     "output_type": "display_data"
    }
   ],
   "source": [
    "image_paths = [os.path.join(save_dir, img_name) for img_name in os.listdir(save_dir)]\n",
    "idx = np.random.choice(len(image_paths), 10)\n",
    "images = []\n",
    "for i in idx:\n",
    "    images.append(I(filename=image_paths[i]))\n",
    "\n",
    "display(*images)"
   ]
  },
  {
   "cell_type": "code",
   "execution_count": null,
   "metadata": {},
   "outputs": [],
   "source": []
  }
 ],
 "metadata": {
  "accelerator": "GPU",
  "colab": {
   "collapsed_sections": [],
   "name": "SR_GAN_feature_loss_no_SN.ipynb",
   "provenance": [],
   "version": "0.3.2"
  },
  "kernelspec": {
   "display_name": "Python 3",
   "language": "python",
   "name": "python3"
  },
  "language_info": {
   "codemirror_mode": {
    "name": "ipython",
    "version": 3
   },
   "file_extension": ".py",
   "mimetype": "text/x-python",
   "name": "python",
   "nbconvert_exporter": "python",
   "pygments_lexer": "ipython3",
   "version": "3.7.1"
  }
 },
 "nbformat": 4,
 "nbformat_minor": 1
}
